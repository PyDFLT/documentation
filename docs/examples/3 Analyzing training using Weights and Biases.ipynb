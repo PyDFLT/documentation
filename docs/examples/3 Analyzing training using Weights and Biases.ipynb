{
 "cells": [
  {
   "cell_type": "markdown",
   "id": "63e2cf92cab3f341",
   "metadata": {},
   "source": [
    "# 3 Analyzing training using Weights and Biases\n",
    "Weights and biases (wandb) is an effective tool for training machine learning models (free for academic use). The `Runner` has an argument called `use_wandb`, which when set to `True` will use weights and biases. In this notebook we show how wandb can be used effectively. First we show how it can help, after we show how to set it up for yourself.\n"
   ]
  },
  {
   "cell_type": "code",
   "execution_count": 1,
   "id": "bae0285479feee16",
   "metadata": {
    "ExecuteTime": {
     "end_time": "2025-10-02T13:37:29.012377Z",
     "start_time": "2025-10-02T13:37:29.008320Z"
    }
   },
   "outputs": [],
   "source": [
    "import os\n",
    "import sys\n",
    "\n",
    "path_to_project = os.path.dirname(os.path.abspath(\"\")) + \"/\"\n",
    "sys.path.append(os.path.dirname(os.path.dirname(os.path.abspath(\"PyDFLT\"))))"
   ]
  },
  {
   "cell_type": "markdown",
   "id": "8336debb16ca2fd6",
   "metadata": {},
   "source": [
    "We run the same experiment as in notebook 2, now with more data and seeds. We compare DFL methods SPO+ [1] and PFYL [2] to baseline PFL on the shortest path problem. Below is the code required to run it, but this run is already stored in wandb."
   ]
  },
  {
   "cell_type": "code",
   "execution_count": 2,
   "id": "initial_id",
   "metadata": {
    "ExecuteTime": {
     "end_time": "2025-10-02T13:37:29.094308Z",
     "start_time": "2025-10-02T13:37:29.091852Z"
    },
    "collapsed": true
   },
   "outputs": [],
   "source": [
    "rerun_experiment = False\n",
    "if rerun_experiment:\n",
    "    import yaml\n",
    "\n",
    "    from src.utils.experiments import run, update_config\n",
    "\n",
    "    experiment_kwargs = {\n",
    "        \"SPO+\": {},\n",
    "        \"PFYL\": {\n",
    "            \"decision_maker\": {\n",
    "                \"loss_function_str\": \"perturbedFenchelYoung\",\n",
    "            },\n",
    "        },\n",
    "        \"PFL\": {\n",
    "            \"decision_maker\": {\n",
    "                \"loss_function_str\": \"mse\",\n",
    "            }\n",
    "        },\n",
    "    }\n",
    "\n",
    "    seeds = list(range(5))\n",
    "    for experiment_name, kwargs in experiment_kwargs.items():\n",
    "        for seed in seeds:\n",
    "            yaml_dir = \"configs/shortest_path_wandb.yml\"\n",
    "            config = yaml.safe_load(open(yaml_dir))\n",
    "            config[\"runner\"][\"experiment_name\"] = experiment_name\n",
    "            for key in config:\n",
    "                if isinstance(config[key], dict) and \"seed\" in config[key]:\n",
    "                    config[key][\"seed\"] = seed\n",
    "            updated_config = update_config(config, kwargs)\n",
    "            run(updated_config)"
   ]
  },
  {
   "cell_type": "code",
   "execution_count": 3,
   "id": "c374623ccf6d358a",
   "metadata": {
    "ExecuteTime": {
     "end_time": "2025-10-02T13:37:29.732399Z",
     "start_time": "2025-10-02T13:37:29.100224Z"
    }
   },
   "outputs": [
    {
     "data": {
      "text/html": [
       "\n",
       "        <iframe\n",
       "            width=\"1000\"\n",
       "            height=\"800\"\n",
       "            src=\"https://wandb.ai/noahschutte-tudelft/shortest_path/runs/\"\n",
       "            frameborder=\"0\"\n",
       "            allowfullscreen\n",
       "            \n",
       "        ></iframe>\n",
       "        "
      ],
      "text/plain": [
       "<IPython.lib.display.IFrame at 0x10981b3b0>"
      ]
     },
     "execution_count": 3,
     "metadata": {},
     "output_type": "execute_result"
    }
   ],
   "source": [
    "import wandb\n",
    "from IPython.display import IFrame\n",
    "\n",
    "# Display it inline\n",
    "IFrame(\"https://wandb.ai/noahschutte-tudelft/shortest_path/runs/\", width=1000, height=800)"
   ]
  },
  {
   "cell_type": "markdown",
   "id": "d04c7c0ea679223a",
   "metadata": {},
   "source": [
    "We display the wandb dashboard below, alternatively one can go to the [link](https://wandb.ai/noahschutte-tudelft/shortest_path/runs/)"
   ]
  },
  {
   "cell_type": "markdown",
   "id": "ea96716b1e6f333d",
   "metadata": {},
   "source": [
    "### Setting up wandb\n",
    "To set up wandb, you can make an account [here](wandb.ai). After this, you can go [here](https://wandb.ai/authorize) to copy your api key. Using your api key you can run the following cell. If you have logged in using a certain api key once, you do not have to log in again, as it automatically saves projects under your account."
   ]
  },
  {
   "cell_type": "code",
   "execution_count": 5,
   "id": "5e2b5dc64edce64d",
   "metadata": {
    "ExecuteTime": {
     "end_time": "2025-10-02T13:39:30.228308Z",
     "start_time": "2025-10-02T13:39:30.224563Z"
    }
   },
   "outputs": [],
   "source": [
    "login_wandb = False\n",
    "if login_wandb:\n",
    "    wandb.login(key=\"YOUR_API_KEY\")"
   ]
  }
 ],
 "metadata": {
  "kernelspec": {
   "display_name": "Python 3",
   "language": "python",
   "name": "python3"
  },
  "language_info": {
   "codemirror_mode": {
    "name": "ipython",
    "version": 2
   },
   "file_extension": ".py",
   "mimetype": "text/x-python",
   "name": "python",
   "nbconvert_exporter": "python",
   "pygments_lexer": "ipython3",
   "version": "2.7.6"
  }
 },
 "nbformat": 4,
 "nbformat_minor": 5
}
